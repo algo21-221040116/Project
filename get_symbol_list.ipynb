{
 "cells": [
  {
   "cell_type": "markdown",
   "metadata": {},
   "source": [
    "**获取研究期间剔除上市短、ST的标的**"
   ]
  },
  {
   "cell_type": "code",
   "execution_count": 2,
   "metadata": {
    "run_control": {
     "marked": true
    }
   },
   "outputs": [],
   "source": [
    "import numpy as mp\n",
    "import pandas as pd\n",
    "import os\n",
    "import jqdatasdk\n",
    "import datetime"
   ]
  },
  {
   "cell_type": "code",
   "execution_count": 35,
   "metadata": {
    "ExecuteTime": {
     "end_time": "2022-05-01T05:29:31.340747Z",
     "start_time": "2022-05-01T05:29:31.323795Z"
    }
   },
   "outputs": [],
   "source": [
    "# jqdatasdk.auth(\"18867905508\", \"Ljy19950217\") # user & password\n",
    "jqdatasdk.auth('13350103318', '87654321wW')"
   ]
  },
  {
   "cell_type": "code",
   "execution_count": 34,
   "metadata": {
    "ExecuteTime": {
     "end_time": "2022-05-01T05:29:24.074397Z",
     "start_time": "2022-05-01T05:29:24.006644Z"
    }
   },
   "outputs": [
    {
     "data": {
      "text/plain": [
       "{'total': 1000000, 'spare': 962420}"
      ]
     },
     "execution_count": 34,
     "metadata": {},
     "output_type": "execute_result"
    }
   ],
   "source": [
    "jqdatasdk.get_query_count() # JQ总共能查多少data 还剩能查多少data"
   ]
  },
  {
   "cell_type": "code",
   "execution_count": 21,
   "metadata": {
    "ExecuteTime": {
     "end_time": "2022-05-01T04:47:08.171488Z",
     "start_time": "2022-05-01T04:47:08.157525Z"
    }
   },
   "outputs": [],
   "source": [
    "start = '2016-12-31'\n",
    "end = '2021-12-31'\n",
    "dateList = pd.date_range(start, end, freq='m')"
   ]
  },
  {
   "cell_type": "code",
   "execution_count": 16,
   "metadata": {
    "ExecuteTime": {
     "end_time": "2022-05-01T04:41:31.174047Z",
     "start_time": "2022-05-01T04:41:31.159053Z"
    }
   },
   "outputs": [],
   "source": [
    "def delect_stop(stocks, beginDate, n=30*2):\n",
    "    '''剔除上市不足60日的标的'''\n",
    "    stockList = []\n",
    "    beginDate = datetime.datetime.strptime(beginDate, '%Y-%m-%d')\n",
    "    for stock in stocks:\n",
    "        start_date = jqdatasdk.get_security_info(stock).start_date\n",
    "        if start_date < (beginDate - datetime.timedelta(days=n)).date():\n",
    "            stockList.append(stock)\n",
    "    return stockList\n",
    "\n",
    "def delect_st(stocks, beginDate):\n",
    "    '''剔除st的标的'''\n",
    "    st_data = jqdatasdk.get_extras('is_st', stocks, count=1, end_date=beginDate)\n",
    "    stockList = [stock for stock in stocks if st_data[stock][0] == False]\n",
    "    return stockList"
   ]
  },
  {
   "cell_type": "code",
   "execution_count": 27,
   "metadata": {
    "ExecuteTime": {
     "end_time": "2022-05-01T05:07:00.777718Z",
     "start_time": "2022-05-01T04:49:42.610933Z"
    }
   },
   "outputs": [],
   "source": [
    "hs300_origin_dict = {}\n",
    "hs300_cleared_dict = {}\n",
    "for date in dateList:\n",
    "    '''获取交易标的'''\n",
    "    date = date.strftime('%Y-%m-%d')\n",
    "    hs300_list = jqdatasdk.get_index_stocks('000300.XSHG', date)\n",
    "    hs300_origin_dict[date] = hs300_list\n",
    "    hs300_cleared_dict[date] = delect_st(delect_stop(hs300_list, date), date)\n",
    "# hs300_cleared_dict"
   ]
  },
  {
   "cell_type": "code",
   "execution_count": 28,
   "metadata": {
    "ExecuteTime": {
     "end_time": "2022-05-01T05:07:00.792869Z",
     "start_time": "2022-05-01T05:07:00.778715Z"
    }
   },
   "outputs": [],
   "source": [
    "import json\n",
    "'''写入本地，方便之后调用'''\n",
    "jsonObj = json.dumps(hs300_origin_dict)\n",
    "fileObj = open('hs300_origin_dict.json', 'w', encoding='utf-8')\n",
    "fileObj.write(jsonObj)\n",
    "fileObj.close()\n",
    "\n",
    "jsonObj = json.dumps(hs300_cleared_dict)\n",
    "fileObj = open('hs300_cleared_dict.json', 'w', encoding='utf-8')\n",
    "fileObj.write(jsonObj)\n",
    "fileObj.close()"
   ]
  },
  {
   "cell_type": "code",
   "execution_count": 30,
   "metadata": {
    "ExecuteTime": {
     "end_time": "2022-05-01T05:27:51.270778Z",
     "start_time": "2022-05-01T05:27:51.258774Z"
    }
   },
   "outputs": [],
   "source": [
    "with open('hs300_cleared_dict.json', 'r') as f:\n",
    "    symbol_dict = json.load(f)\n",
    "symbol_dict.keys()"
   ]
  }
 ],
 "metadata": {
  "interpreter": {
   "hash": "1ab2a1085748cf8f1300b04be09da84c97ce78fbbf17b025e3457bb3229aaa8f"
  },
  "kernelspec": {
   "display_name": "Python 3",
   "language": "python",
   "name": "python3"
  },
  "language_info": {
   "codemirror_mode": {
    "name": "ipython",
    "version": 3
   },
   "file_extension": ".py",
   "mimetype": "text/x-python",
   "name": "python",
   "nbconvert_exporter": "python",
   "pygments_lexer": "ipython3",
   "version": "3.8.8"
  },
  "latex_envs": {
   "LaTeX_envs_menu_present": true,
   "autoclose": false,
   "autocomplete": true,
   "bibliofile": "biblio.bib",
   "cite_by": "apalike",
   "current_citInitial": 1,
   "eqLabelWithNumbers": true,
   "eqNumInitial": 1,
   "hotkeys": {
    "equation": "Ctrl-E",
    "itemize": "Ctrl-I"
   },
   "labels_anchors": false,
   "latex_user_defs": false,
   "report_style_numbering": false,
   "user_envs_cfg": false
  },
  "toc": {
   "base_numbering": 1,
   "nav_menu": {},
   "number_sections": true,
   "sideBar": true,
   "skip_h1_title": false,
   "title_cell": "Table of Contents",
   "title_sidebar": "Contents",
   "toc_cell": false,
   "toc_position": {},
   "toc_section_display": true,
   "toc_window_display": false
  }
 },
 "nbformat": 4,
 "nbformat_minor": 2
}
