{
 "cells": [
  {
   "cell_type": "markdown",
   "id": "be7791c3",
   "metadata": {},
   "source": [
    "# 标的获取"
   ]
  },
  {
   "cell_type": "code",
   "execution_count": 58,
   "id": "f1e8e906",
   "metadata": {
    "ExecuteTime": {
     "end_time": "2022-05-01T14:26:33.167148Z",
     "start_time": "2022-05-01T14:26:33.160167Z"
    }
   },
   "outputs": [],
   "source": [
    "import numpy as mp\n",
    "import pandas as pd\n",
    "import os\n",
    "import jqdatasdk\n",
    "import datetime\n",
    "import json"
   ]
  },
  {
   "cell_type": "code",
   "execution_count": 59,
   "id": "44d0d81d",
   "metadata": {
    "ExecuteTime": {
     "end_time": "2022-05-01T14:26:33.571067Z",
     "start_time": "2022-05-01T14:26:33.552117Z"
    }
   },
   "outputs": [],
   "source": [
    "jqdatasdk.auth('13350103318', '87654321wW')\n",
    "# jqdatasdk.auth(\"18867905508\", \"Ljy19950217\")"
   ]
  },
  {
   "cell_type": "code",
   "execution_count": 80,
   "id": "da6b0750",
   "metadata": {
    "ExecuteTime": {
     "end_time": "2022-05-01T15:35:16.729800Z",
     "start_time": "2022-05-01T15:35:15.802771Z"
    }
   },
   "outputs": [
    {
     "data": {
      "text/plain": [
       "{'total': 500000, 'spare': 29758}"
      ]
     },
     "execution_count": 80,
     "metadata": {},
     "output_type": "execute_result"
    }
   ],
   "source": [
    "jqdatasdk.get_query_count()"
   ]
  },
  {
   "cell_type": "code",
   "execution_count": 61,
   "id": "33353041",
   "metadata": {
    "ExecuteTime": {
     "end_time": "2022-05-01T14:26:36.779495Z",
     "start_time": "2022-05-01T14:26:36.768484Z"
    }
   },
   "outputs": [],
   "source": [
    "with open('hs300_cleared_dict.json', 'r') as f:\n",
    "    symbol_dict = json.load(f)"
   ]
  },
  {
   "cell_type": "code",
   "execution_count": 63,
   "id": "eb36026d",
   "metadata": {
    "ExecuteTime": {
     "end_time": "2022-05-01T14:26:49.541525Z",
     "start_time": "2022-05-01T14:26:49.534509Z"
    }
   },
   "outputs": [],
   "source": [
    "from dateutil.relativedelta import relativedelta\n",
    "dateList = list(symbol_dict.keys())\n",
    "start = datetime.datetime.strptime(dateList[0], '%Y-%m-%d') - relativedelta(months=1)  # 多拉一个月的数据进行因子构造\n",
    "start = start.strftime('%Y-%m-%d')\n",
    "end = dateList[-1]  # 指定后复权参照日\n",
    "last_symbol = []"
   ]
  },
  {
   "cell_type": "code",
   "execution_count": 64,
   "id": "430da612",
   "metadata": {
    "ExecuteTime": {
     "end_time": "2022-05-01T14:26:53.623449Z",
     "start_time": "2022-05-01T14:26:53.609489Z"
    }
   },
   "outputs": [
    {
     "name": "stdout",
     "output_type": "stream",
     "text": [
      "2019-03-31 - 2019-10-31\n"
     ]
    }
   ],
   "source": [
    "subdateList = dateList[27:35]\n",
    "print(subdateList[0], '-', subdateList[-1])"
   ]
  },
  {
   "cell_type": "code",
   "execution_count": 77,
   "id": "6f215776",
   "metadata": {
    "ExecuteTime": {
     "end_time": "2022-05-01T15:30:18.653575Z",
     "start_time": "2022-05-01T15:29:25.803709Z"
    }
   },
   "outputs": [
    {
     "name": "stdout",
     "output_type": "stream",
     "text": [
      "2019-03-31\n",
      "2019-04-30\n",
      "2019-05-31\n",
      "2019-06-30\n",
      "2019-07-31\n",
      "2019-08-31\n",
      "2019-09-30\n",
      "2019-10-31\n"
     ]
    },
    {
     "data": {
      "text/html": [
       "<div>\n",
       "<style scoped>\n",
       "    .dataframe tbody tr th:only-of-type {\n",
       "        vertical-align: middle;\n",
       "    }\n",
       "\n",
       "    .dataframe tbody tr th {\n",
       "        vertical-align: top;\n",
       "    }\n",
       "\n",
       "    .dataframe thead th {\n",
       "        text-align: right;\n",
       "    }\n",
       "</style>\n",
       "<table border=\"1\" class=\"dataframe\">\n",
       "  <thead>\n",
       "    <tr style=\"text-align: right;\">\n",
       "      <th></th>\n",
       "      <th></th>\n",
       "      <th>date</th>\n",
       "      <th>open</th>\n",
       "      <th>close</th>\n",
       "      <th>high</th>\n",
       "      <th>low</th>\n",
       "      <th>volume</th>\n",
       "    </tr>\n",
       "  </thead>\n",
       "  <tbody>\n",
       "    <tr>\n",
       "      <th rowspan=\"5\" valign=\"top\">000630.XSHE</th>\n",
       "      <th>0</th>\n",
       "      <td>2019-02-26 10:30:00</td>\n",
       "      <td>2.29</td>\n",
       "      <td>2.32</td>\n",
       "      <td>2.42</td>\n",
       "      <td>2.24</td>\n",
       "      <td>200026887.0</td>\n",
       "    </tr>\n",
       "    <tr>\n",
       "      <th>1</th>\n",
       "      <td>2019-02-26 11:30:00</td>\n",
       "      <td>2.31</td>\n",
       "      <td>2.35</td>\n",
       "      <td>2.35</td>\n",
       "      <td>2.27</td>\n",
       "      <td>52355033.0</td>\n",
       "    </tr>\n",
       "    <tr>\n",
       "      <th>2</th>\n",
       "      <td>2019-02-26 14:00:00</td>\n",
       "      <td>2.35</td>\n",
       "      <td>2.36</td>\n",
       "      <td>2.38</td>\n",
       "      <td>2.35</td>\n",
       "      <td>46943937.0</td>\n",
       "    </tr>\n",
       "    <tr>\n",
       "      <th>3</th>\n",
       "      <td>2019-02-26 15:00:00</td>\n",
       "      <td>2.36</td>\n",
       "      <td>2.30</td>\n",
       "      <td>2.36</td>\n",
       "      <td>2.28</td>\n",
       "      <td>63932403.0</td>\n",
       "    </tr>\n",
       "    <tr>\n",
       "      <th>4</th>\n",
       "      <td>2019-02-27 10:30:00</td>\n",
       "      <td>2.26</td>\n",
       "      <td>2.29</td>\n",
       "      <td>2.34</td>\n",
       "      <td>2.25</td>\n",
       "      <td>69608157.0</td>\n",
       "    </tr>\n",
       "  </tbody>\n",
       "</table>\n",
       "</div>"
      ],
      "text/plain": [
       "                             date  open  close  high   low       volume\n",
       "000630.XSHE 0 2019-02-26 10:30:00  2.29   2.32  2.42  2.24  200026887.0\n",
       "            1 2019-02-26 11:30:00  2.31   2.35  2.35  2.27   52355033.0\n",
       "            2 2019-02-26 14:00:00  2.35   2.36  2.38  2.35   46943937.0\n",
       "            3 2019-02-26 15:00:00  2.36   2.30  2.36  2.28   63932403.0\n",
       "            4 2019-02-27 10:30:00  2.26   2.29  2.34  2.25   69608157.0"
      ]
     },
     "execution_count": 77,
     "metadata": {},
     "output_type": "execute_result"
    }
   ],
   "source": [
    "fields = ['date', 'open', 'close', 'high', 'low', 'volume']\n",
    "data = pd.DataFrame()\n",
    "for date in subdateList:\n",
    "    print(date)\n",
    "    symbol_list = symbol_dict[date]\n",
    "    symbol_list = list(set(symbol_list).union(last_symbol))  # 上期在资产池中的标的也需要获得这一期的交易数据\n",
    "    last_symbol = symbol_dict[date]\n",
    "    next_month = datetime.datetime.strptime(date, '%Y-%m-%d') + relativedelta(months=1)  # 获取下个月前近似两个月的交易数据\n",
    "    temp = jqdatasdk.get_bars(security=symbol_list, fields=fields, end_dt=next_month, count=704, fq_ref_date=end, unit='15m', df=True)\n",
    "    data = data.append(temp)\n",
    "data.head()"
   ]
  },
  {
   "cell_type": "code",
   "execution_count": 79,
   "id": "61286783",
   "metadata": {
    "ExecuteTime": {
     "end_time": "2022-05-01T15:30:41.904948Z",
     "start_time": "2022-05-01T15:30:38.395020Z"
    }
   },
   "outputs": [],
   "source": [
    "'''写入本地，方便之后调用'''\n",
    "# jsonObj = json.dumps(data)\n",
    "# fileObj = open('data/minute_data_%s_%s.json' % (subdateList[0].replace('-', ''), subdateList[-1].replace('-', '')), 'w', encoding='utf-8')\n",
    "# fileObj.write(jsonObj)\n",
    "# fileObj.close()\n",
    "data.to_csv('data/minute_data_%s_%s.csv' % (subdateList[0].replace('-', ''), subdateList[-1].replace('-', '')))"
   ]
  },
  {
   "cell_type": "code",
   "execution_count": 52,
   "id": "e9c8e987",
   "metadata": {
    "ExecuteTime": {
     "end_time": "2022-05-01T14:23:06.263948Z",
     "start_time": "2022-05-01T14:23:06.254972Z"
    }
   },
   "outputs": [
    {
     "data": {
      "text/plain": [
       "'minute_data_20190331_20191031.json'"
      ]
     },
     "execution_count": 52,
     "metadata": {},
     "output_type": "execute_result"
    }
   ],
   "source": [
    "'minute_data_%s_%s.json' % (subdateList[0].replace('-', ''), subdateList[-1].replace('-', ''))"
   ]
  }
 ],
 "metadata": {
  "kernelspec": {
   "display_name": "Python 3",
   "language": "python",
   "name": "python3"
  },
  "language_info": {
   "codemirror_mode": {
    "name": "ipython",
    "version": 3
   },
   "file_extension": ".py",
   "mimetype": "text/x-python",
   "name": "python",
   "nbconvert_exporter": "python",
   "pygments_lexer": "ipython3",
   "version": "3.8.8"
  },
  "latex_envs": {
   "LaTeX_envs_menu_present": true,
   "autoclose": false,
   "autocomplete": true,
   "bibliofile": "biblio.bib",
   "cite_by": "apalike",
   "current_citInitial": 1,
   "eqLabelWithNumbers": true,
   "eqNumInitial": 1,
   "hotkeys": {
    "equation": "Ctrl-E",
    "itemize": "Ctrl-I"
   },
   "labels_anchors": false,
   "latex_user_defs": false,
   "report_style_numbering": false,
   "user_envs_cfg": false
  },
  "toc": {
   "base_numbering": 1,
   "nav_menu": {},
   "number_sections": true,
   "sideBar": true,
   "skip_h1_title": false,
   "title_cell": "Table of Contents",
   "title_sidebar": "Contents",
   "toc_cell": false,
   "toc_position": {},
   "toc_section_display": true,
   "toc_window_display": false
  }
 },
 "nbformat": 4,
 "nbformat_minor": 5
}
